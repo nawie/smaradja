{
 "cells": [
  {
   "cell_type": "code",
   "execution_count": 1,
   "source": [
    "import pandas as pd"
   ],
   "outputs": [],
   "metadata": {}
  },
  {
   "cell_type": "markdown",
   "source": [
    "## Fungsi Bantuan"
   ],
   "metadata": {}
  },
  {
   "cell_type": "code",
   "execution_count": 2,
   "source": [
    "class filtering:\n",
    "\n",
    "    def by_wilayah(data, wilayah=None):\n",
    "        if not wilayah:\n",
    "            print(f'Filter wilayah harus di isi')\n",
    "        else:\n",
    "            display(data[data['Location'] == wilayah])\n",
    "\n",
    "    def by_periode(data, periode=None):\n",
    "        if not periode:\n",
    "            print(f'Filter periode harus di isi')\n",
    "        else:\n",
    "            display(data[data['Date'].dt.year == periode])\n",
    "\n",
    "\n",
    "class checking:\n",
    "\n",
    "    def valid_max_case(max_case):\n",
    "        try:\n",
    "            assert max_case == 38391\n",
    "        except AssertionError:\n",
    "            print(f'Maksimal kasus baru perhari: {max_case} ✘')\n",
    "        else:\n",
    "            print(f'Maksimal kasus baru perhari: {max_case} ✔')\n",
    "\n",
    "    def valid_total_avg(total_avg):\n",
    "        try:\n",
    "            assert int(total_avg) == 301\n",
    "        except AssertionError:\n",
    "            print(f'Rata-rata kasus baru perhari: {total_avg} ✘')\n",
    "        else:\n",
    "            print(f'Rata-rata kasus baru perhari: {total_avg} ✔')"
   ],
   "outputs": [],
   "metadata": {}
  },
  {
   "cell_type": "markdown",
   "source": [
    "## Import data dan filter"
   ],
   "metadata": {}
  },
  {
   "cell_type": "code",
   "execution_count": 3,
   "source": [
    "data = pd.read_csv('./data/covid_19_indonesia.csv', sep=',')\n",
    "\n",
    "# convert string periode ke datetime\n",
    "data['Date'] = pd.to_datetime(data['Date'])\n",
    "\n",
    "# filter kolom\n",
    "data = data[['Date', 'Location', 'New Cases', 'New Deaths', 'New Recovered', 'Total Cases', 'Total Deaths', 'Total Recovered']]\n",
    "\n",
    "# data kasus baru\n",
    "new_cases = data['New Cases'].to_list()"
   ],
   "outputs": [],
   "metadata": {}
  },
  {
   "cell_type": "markdown",
   "source": [
    "## Statistik Data"
   ],
   "metadata": {}
  },
  {
   "cell_type": "code",
   "execution_count": 4,
   "source": [
    "# statistik\n",
    "print(f'Data preview:')\n",
    "display(data)\n",
    "\n",
    "# info\n",
    "print(f'Data info:')\n",
    "data.describe()"
   ],
   "outputs": [
    {
     "output_type": "stream",
     "name": "stdout",
     "text": [
      "Data preview:\n"
     ]
    },
    {
     "output_type": "display_data",
     "data": {
      "text/plain": [
       "            Date           Location  New Cases  New Deaths  New Recovered  \\\n",
       "0     2020-01-08         Jawa Timur          9           3              1   \n",
       "1     2020-01-09         Jawa Timur          0           1             23   \n",
       "2     2020-01-10         Jawa Timur          0           1             14   \n",
       "3     2020-01-11         Jawa Timur          0           3              8   \n",
       "4     2020-01-12         Jawa Timur          0           3              1   \n",
       "...          ...                ...        ...         ...            ...   \n",
       "16278 2021-07-09  Sulawesi Tenggara        124           1              3   \n",
       "16279 2021-07-09     Sulawesi Utara        278           9              9   \n",
       "16280 2021-07-09     Sumatera Barat        718          10            275   \n",
       "16281 2021-07-09   Sumatera Selatan        341           6            221   \n",
       "16282 2021-07-09     Sumatera Utara        336           5            241   \n",
       "\n",
       "       Total Cases  Total Deaths  Total Recovered  \n",
       "0                9             5               10  \n",
       "1                9             6               33  \n",
       "2                9             7               47  \n",
       "3                9            10               55  \n",
       "4                9            13               56  \n",
       "...            ...           ...              ...  \n",
       "16278        12447           252            10412  \n",
       "16279        17424           572            15525  \n",
       "16280        55675          1259            48840  \n",
       "16281        31147          1569            27088  \n",
       "16282        38040          1232            33773  \n",
       "\n",
       "[16283 rows x 8 columns]"
      ],
      "text/html": [
       "<div>\n",
       "<style scoped>\n",
       "    .dataframe tbody tr th:only-of-type {\n",
       "        vertical-align: middle;\n",
       "    }\n",
       "\n",
       "    .dataframe tbody tr th {\n",
       "        vertical-align: top;\n",
       "    }\n",
       "\n",
       "    .dataframe thead th {\n",
       "        text-align: right;\n",
       "    }\n",
       "</style>\n",
       "<table border=\"1\" class=\"dataframe\">\n",
       "  <thead>\n",
       "    <tr style=\"text-align: right;\">\n",
       "      <th></th>\n",
       "      <th>Date</th>\n",
       "      <th>Location</th>\n",
       "      <th>New Cases</th>\n",
       "      <th>New Deaths</th>\n",
       "      <th>New Recovered</th>\n",
       "      <th>Total Cases</th>\n",
       "      <th>Total Deaths</th>\n",
       "      <th>Total Recovered</th>\n",
       "    </tr>\n",
       "  </thead>\n",
       "  <tbody>\n",
       "    <tr>\n",
       "      <th>0</th>\n",
       "      <td>2020-01-08</td>\n",
       "      <td>Jawa Timur</td>\n",
       "      <td>9</td>\n",
       "      <td>3</td>\n",
       "      <td>1</td>\n",
       "      <td>9</td>\n",
       "      <td>5</td>\n",
       "      <td>10</td>\n",
       "    </tr>\n",
       "    <tr>\n",
       "      <th>1</th>\n",
       "      <td>2020-01-09</td>\n",
       "      <td>Jawa Timur</td>\n",
       "      <td>0</td>\n",
       "      <td>1</td>\n",
       "      <td>23</td>\n",
       "      <td>9</td>\n",
       "      <td>6</td>\n",
       "      <td>33</td>\n",
       "    </tr>\n",
       "    <tr>\n",
       "      <th>2</th>\n",
       "      <td>2020-01-10</td>\n",
       "      <td>Jawa Timur</td>\n",
       "      <td>0</td>\n",
       "      <td>1</td>\n",
       "      <td>14</td>\n",
       "      <td>9</td>\n",
       "      <td>7</td>\n",
       "      <td>47</td>\n",
       "    </tr>\n",
       "    <tr>\n",
       "      <th>3</th>\n",
       "      <td>2020-01-11</td>\n",
       "      <td>Jawa Timur</td>\n",
       "      <td>0</td>\n",
       "      <td>3</td>\n",
       "      <td>8</td>\n",
       "      <td>9</td>\n",
       "      <td>10</td>\n",
       "      <td>55</td>\n",
       "    </tr>\n",
       "    <tr>\n",
       "      <th>4</th>\n",
       "      <td>2020-01-12</td>\n",
       "      <td>Jawa Timur</td>\n",
       "      <td>0</td>\n",
       "      <td>3</td>\n",
       "      <td>1</td>\n",
       "      <td>9</td>\n",
       "      <td>13</td>\n",
       "      <td>56</td>\n",
       "    </tr>\n",
       "    <tr>\n",
       "      <th>...</th>\n",
       "      <td>...</td>\n",
       "      <td>...</td>\n",
       "      <td>...</td>\n",
       "      <td>...</td>\n",
       "      <td>...</td>\n",
       "      <td>...</td>\n",
       "      <td>...</td>\n",
       "      <td>...</td>\n",
       "    </tr>\n",
       "    <tr>\n",
       "      <th>16278</th>\n",
       "      <td>2021-07-09</td>\n",
       "      <td>Sulawesi Tenggara</td>\n",
       "      <td>124</td>\n",
       "      <td>1</td>\n",
       "      <td>3</td>\n",
       "      <td>12447</td>\n",
       "      <td>252</td>\n",
       "      <td>10412</td>\n",
       "    </tr>\n",
       "    <tr>\n",
       "      <th>16279</th>\n",
       "      <td>2021-07-09</td>\n",
       "      <td>Sulawesi Utara</td>\n",
       "      <td>278</td>\n",
       "      <td>9</td>\n",
       "      <td>9</td>\n",
       "      <td>17424</td>\n",
       "      <td>572</td>\n",
       "      <td>15525</td>\n",
       "    </tr>\n",
       "    <tr>\n",
       "      <th>16280</th>\n",
       "      <td>2021-07-09</td>\n",
       "      <td>Sumatera Barat</td>\n",
       "      <td>718</td>\n",
       "      <td>10</td>\n",
       "      <td>275</td>\n",
       "      <td>55675</td>\n",
       "      <td>1259</td>\n",
       "      <td>48840</td>\n",
       "    </tr>\n",
       "    <tr>\n",
       "      <th>16281</th>\n",
       "      <td>2021-07-09</td>\n",
       "      <td>Sumatera Selatan</td>\n",
       "      <td>341</td>\n",
       "      <td>6</td>\n",
       "      <td>221</td>\n",
       "      <td>31147</td>\n",
       "      <td>1569</td>\n",
       "      <td>27088</td>\n",
       "    </tr>\n",
       "    <tr>\n",
       "      <th>16282</th>\n",
       "      <td>2021-07-09</td>\n",
       "      <td>Sumatera Utara</td>\n",
       "      <td>336</td>\n",
       "      <td>5</td>\n",
       "      <td>241</td>\n",
       "      <td>38040</td>\n",
       "      <td>1232</td>\n",
       "      <td>33773</td>\n",
       "    </tr>\n",
       "  </tbody>\n",
       "</table>\n",
       "<p>16283 rows × 8 columns</p>\n",
       "</div>"
      ]
     },
     "metadata": {}
    },
    {
     "output_type": "stream",
     "name": "stdout",
     "text": [
      "Data info:\n"
     ]
    },
    {
     "output_type": "execute_result",
     "data": {
      "text/plain": [
       "          New Cases    New Deaths  New Recovered   Total Cases  Total Deaths  \\\n",
       "count  16283.000000  16283.000000   16283.000000  1.628300e+04  16283.000000   \n",
       "mean     301.271879      7.919364     248.015783  4.274674e+04   1243.917644   \n",
       "std     1330.028199     32.171434     997.784905  1.784936e+05   4944.634529   \n",
       "min        0.000000      0.000000       0.000000  1.000000e+00      0.000000   \n",
       "25%        6.000000      0.000000       2.000000  7.265000e+02     23.000000   \n",
       "50%       39.000000      1.000000      24.000000  5.941000e+03    149.000000   \n",
       "75%      127.000000      4.000000     106.000000  1.777450e+04    556.000000   \n",
       "max    38391.000000   1040.000000   28975.000000  2.455912e+06  64631.000000   \n",
       "\n",
       "       Total Recovered  \n",
       "count     1.628300e+04  \n",
       "mean      3.689427e+04  \n",
       "std       1.580017e+05  \n",
       "min       0.000000e+00  \n",
       "25%       3.860000e+02  \n",
       "50%       4.484000e+03  \n",
       "75%       1.430450e+04  \n",
       "max       2.023548e+06  "
      ],
      "text/html": [
       "<div>\n",
       "<style scoped>\n",
       "    .dataframe tbody tr th:only-of-type {\n",
       "        vertical-align: middle;\n",
       "    }\n",
       "\n",
       "    .dataframe tbody tr th {\n",
       "        vertical-align: top;\n",
       "    }\n",
       "\n",
       "    .dataframe thead th {\n",
       "        text-align: right;\n",
       "    }\n",
       "</style>\n",
       "<table border=\"1\" class=\"dataframe\">\n",
       "  <thead>\n",
       "    <tr style=\"text-align: right;\">\n",
       "      <th></th>\n",
       "      <th>New Cases</th>\n",
       "      <th>New Deaths</th>\n",
       "      <th>New Recovered</th>\n",
       "      <th>Total Cases</th>\n",
       "      <th>Total Deaths</th>\n",
       "      <th>Total Recovered</th>\n",
       "    </tr>\n",
       "  </thead>\n",
       "  <tbody>\n",
       "    <tr>\n",
       "      <th>count</th>\n",
       "      <td>16283.000000</td>\n",
       "      <td>16283.000000</td>\n",
       "      <td>16283.000000</td>\n",
       "      <td>1.628300e+04</td>\n",
       "      <td>16283.000000</td>\n",
       "      <td>1.628300e+04</td>\n",
       "    </tr>\n",
       "    <tr>\n",
       "      <th>mean</th>\n",
       "      <td>301.271879</td>\n",
       "      <td>7.919364</td>\n",
       "      <td>248.015783</td>\n",
       "      <td>4.274674e+04</td>\n",
       "      <td>1243.917644</td>\n",
       "      <td>3.689427e+04</td>\n",
       "    </tr>\n",
       "    <tr>\n",
       "      <th>std</th>\n",
       "      <td>1330.028199</td>\n",
       "      <td>32.171434</td>\n",
       "      <td>997.784905</td>\n",
       "      <td>1.784936e+05</td>\n",
       "      <td>4944.634529</td>\n",
       "      <td>1.580017e+05</td>\n",
       "    </tr>\n",
       "    <tr>\n",
       "      <th>min</th>\n",
       "      <td>0.000000</td>\n",
       "      <td>0.000000</td>\n",
       "      <td>0.000000</td>\n",
       "      <td>1.000000e+00</td>\n",
       "      <td>0.000000</td>\n",
       "      <td>0.000000e+00</td>\n",
       "    </tr>\n",
       "    <tr>\n",
       "      <th>25%</th>\n",
       "      <td>6.000000</td>\n",
       "      <td>0.000000</td>\n",
       "      <td>2.000000</td>\n",
       "      <td>7.265000e+02</td>\n",
       "      <td>23.000000</td>\n",
       "      <td>3.860000e+02</td>\n",
       "    </tr>\n",
       "    <tr>\n",
       "      <th>50%</th>\n",
       "      <td>39.000000</td>\n",
       "      <td>1.000000</td>\n",
       "      <td>24.000000</td>\n",
       "      <td>5.941000e+03</td>\n",
       "      <td>149.000000</td>\n",
       "      <td>4.484000e+03</td>\n",
       "    </tr>\n",
       "    <tr>\n",
       "      <th>75%</th>\n",
       "      <td>127.000000</td>\n",
       "      <td>4.000000</td>\n",
       "      <td>106.000000</td>\n",
       "      <td>1.777450e+04</td>\n",
       "      <td>556.000000</td>\n",
       "      <td>1.430450e+04</td>\n",
       "    </tr>\n",
       "    <tr>\n",
       "      <th>max</th>\n",
       "      <td>38391.000000</td>\n",
       "      <td>1040.000000</td>\n",
       "      <td>28975.000000</td>\n",
       "      <td>2.455912e+06</td>\n",
       "      <td>64631.000000</td>\n",
       "      <td>2.023548e+06</td>\n",
       "    </tr>\n",
       "  </tbody>\n",
       "</table>\n",
       "</div>"
      ]
     },
     "metadata": {},
     "execution_count": 4
    }
   ],
   "metadata": {}
  },
  {
   "cell_type": "markdown",
   "source": [
    "## 1. Filter Berdasarkan Wilayah\n",
    "\n",
    "### Silahkan ubah variabel wilayah didalam fungsi filter_wilayah sehingga bisa di filter berdasarkan input"
   ],
   "metadata": {}
  },
  {
   "cell_type": "code",
   "execution_count": 6,
   "source": [
    "def filter_wilayah():\n",
    "    # bikin masukan input\n",
    "    # disimpan sebagai variabel wilayah\n",
    "    \n",
    "    \n",
    "\n",
    "    wilayah = ''\n",
    "    \n",
    "\n",
    "    filtering.by_wilayah(data, wilayah)\n",
    "\n",
    "filter_wilayah()"
   ],
   "outputs": [
    {
     "output_type": "stream",
     "name": "stdout",
     "text": [
      "Filter wilayah harus di isi\n"
     ]
    }
   ],
   "metadata": {}
  },
  {
   "cell_type": "markdown",
   "source": [
    "## 2. Filter Berdasarkan Tahun\n",
    "\n",
    "### Silahkan ubah variabel tahun didalam fungsi filter_wilayah sehingga bisa di filter berdasarkan input"
   ],
   "metadata": {}
  },
  {
   "cell_type": "code",
   "execution_count": 6,
   "source": [
    "def filter_periode():\n",
    "    periode = None\n",
    "\n",
    "    filtering.by_periode(data, periode)\n",
    "\n",
    "filter_periode()"
   ],
   "outputs": [
    {
     "output_type": "stream",
     "name": "stdout",
     "text": [
      "Filter periode harus di isi\n"
     ]
    }
   ],
   "metadata": {}
  },
  {
   "cell_type": "markdown",
   "source": [
    "## 3. Cari Maksimal Banyaknya Kasus Per Hari\n",
    "\n",
    "### Silahkan cari maksimal banyaknya kasus baru per hari dengan melakukan looping data\n",
    "\n",
    "    - variabel items merupakan list data kasus baru\n",
    "    - variabel max_case merupakan hasil dari pencarian maksimal kasus baru per hari"
   ],
   "metadata": {}
  },
  {
   "cell_type": "code",
   "execution_count": 7,
   "source": [
    "def find_max_case(items):\n",
    "    max_case = 0\n",
    "    \n",
    "    checking.valid_max_case(max_case)\n",
    "\n",
    "\n",
    "find_max_case(new_cases)"
   ],
   "outputs": [
    {
     "output_type": "stream",
     "name": "stdout",
     "text": [
      "Maksimal kasus baru perhari: 0 ✘\n"
     ]
    }
   ],
   "metadata": {}
  },
  {
   "cell_type": "markdown",
   "source": [
    "## 4. Cari Rata-rata Kasus Per Hari\n",
    "\n",
    "### Silahkan cari rata-rata kasus baru per hari dengan melakukan looping data\n",
    "\n",
    "    - variabel items merupakan list data kasus baru\n",
    "    - variabel total_avg merupakan hasil dari perhitungan rata-rata kasus baru per hari"
   ],
   "metadata": {}
  },
  {
   "cell_type": "code",
   "execution_count": 8,
   "source": [
    "def find_total_avg(items):\n",
    "    total_avg = 0\n",
    "    \n",
    "    checking.valid_total_avg(total_avg)\n",
    "\n",
    "\n",
    "find_total_avg(new_cases)"
   ],
   "outputs": [
    {
     "output_type": "stream",
     "name": "stdout",
     "text": [
      "Rata-rata kasus baru perhari: 0 ✘\n"
     ]
    }
   ],
   "metadata": {}
  }
 ],
 "metadata": {
  "orig_nbformat": 4,
  "kernelspec": {
   "name": "python3",
   "display_name": "Python 3.9.6 64-bit ('.env': venv)"
  },
  "interpreter": {
   "hash": "3ef8251769fdee73c067a70473bcea32af93f59c67460da26ac882bd813b0688"
  },
  "language_info": {
   "name": "python",
   "version": "3.9.6",
   "mimetype": "text/x-python",
   "codemirror_mode": {
    "name": "ipython",
    "version": 3
   },
   "pygments_lexer": "ipython3",
   "nbconvert_exporter": "python",
   "file_extension": ".py"
  }
 },
 "nbformat": 4,
 "nbformat_minor": 2
}